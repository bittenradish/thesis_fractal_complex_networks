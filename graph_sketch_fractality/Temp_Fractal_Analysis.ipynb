{
 "cells": [
  {
   "cell_type": "code",
   "execution_count": 5,
   "metadata": {},
   "outputs": [
    {
     "name": "stderr",
     "output_type": "stream",
     "text": [
      "python3: can't open file '/work/waf-2.0.24': [Errno 2] No such file or directory\n",
      "python3: can't open file '/work/waf-2.0.24': [Errno 2] No such file or directory\n"
     ]
    },
    {
     "data": {
      "text/plain": [
       "CompletedProcess(args=['python3', 'waf-2.0.24'], returncode=2)"
      ]
     },
     "execution_count": 5,
     "metadata": {},
     "output_type": "execute_result"
    }
   ],
   "source": [
    "# Cell 1: Setting up the source code\n",
    "\n",
    "import subprocess\n",
    "import shlex\n",
    "\n",
    "subprocess.run(shlex.split('python3 /graph_sketch_fractality/waf-2.0.24 configure'))\n",
    "subprocess.run(shlex.split('python3 /graph_sketch_fractality/waf-2.0.24'))"
   ]
  }
 ],
 "metadata": {
  "kernelspec": {
   "display_name": "Python 3 (ipykernel)",
   "language": "python",
   "name": "python3"
  },
  "language_info": {
   "codemirror_mode": {
    "name": "ipython",
    "version": 3
   },
   "file_extension": ".py",
   "mimetype": "text/x-python",
   "name": "python",
   "nbconvert_exporter": "python",
   "pygments_lexer": "ipython3",
   "version": "3.10.12"
  }
 },
 "nbformat": 4,
 "nbformat_minor": 2
}
